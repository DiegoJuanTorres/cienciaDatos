{
  "cells": [
    {
      "cell_type": "markdown",
      "metadata": {},
      "source": [
        "<a href=\"https://colab.research.google.com/github/dieguito1331/cienciaDatos/blob/master/maestria/teoria/05 - Ejercicio - Multilayer Preceptron.ipynb\" target=\"_parent\"><img src=\"https://colab.research.google.com/assets/colab-badge.svg\" alt=\"Open In Colab\"/></a>"
      ]
    },
    {
      "cell_type": "markdown",
      "metadata": {
        "id": "sJV58DSTXcyU"
      },
      "source": [
        "## Ejercicio ##\n",
        "1) Levantar la base finalOrders.txt creada en el ejercicio anterior.  \n",
        "2) Dividir la base levantada en un 80% y 20%. El 20% lo dejaremos sin usar hasta que querramos validar todos los modelos creados.   \n",
        "3) ¿Cuantas neuronas de entrada tendrá una red neuronal si utilizamos este algoritmo para resolver qué pedidos serán devueltos?\n",
        "4) ¿Cuántas capas, cómo mínimo, tendrá una red neuronal multicapa que puede ayudarnos a resolver el problema?\n",
        "5) Crear un MLP con dos capas ocultas de 30 y 50 neuronas respectivamente. Utilizar Scikit-learn para dicho modelo [Documentación](https://scikit-learn.org/stable/modules/generated/sklearn.neural_network.MLPClassifier.html). Utilizar SGD como optimizador.\n",
        "6) Calcular el AUC del modelo.\n",
        "7) Crear una nueva red MLP cambiando la función de Activación a la función sigmoide. ¿El AUC mejoró?\n",
        "8) Correr una optimización de hiperparámetros GridSearch para encontrar el mejor valor entre:\n",
        "* optimizador: Adam, SGD\n",
        "* número de capas: (40,50), (30,30), (50,)\n",
        "9) ¿Cuál es el mayor AUC obtenido?\n"
      ]
    }
  ],
  "metadata": {
    "colab": {
      "collapsed_sections": [],
      "provenance": []
    },
    "kernelspec": {
      "display_name": "Python 3",
      "name": "python3"
    },
    "language_info": {
      "name": "python"
    }
  },
  "nbformat": 4,
  "nbformat_minor": 0
}
