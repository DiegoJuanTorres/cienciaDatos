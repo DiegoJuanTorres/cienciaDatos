{
 "cells": [
  {
   "cell_type": "markdown",
   "metadata": {},
   "source": [
    "<a href=\"https://colab.research.google.com/github/dieguito1331/cienciaDatos/blob/master/posgrado/practica/01 - Ejercicio Pandas (Orders).ipynb\" target=\"_parent\"><img src=\"https://colab.research.google.com/assets/colab-badge.svg\" alt=\"Open In Colab\"/></a>"
   ]
  },
  {
   "cell_type": "markdown",
   "metadata": {
    "id": "LnhhbIZqdyy-"
   },
   "source": [
    "## Diccionario de los campos de la base ##\n",
    "\n",
    "### Orders\n",
    "**ordeID** -> Order number  \n",
    "**orderDate** -> Date of the order  \n",
    "**customerID** -> Customer number  \n",
    "**deviceID** -> Device number  \n",
    "**paymentMethod** -> Payment method  \n",
    "**target** -> 1 if some product was returned, 0 if wasn't\n",
    "\n",
    "### OrdersDetails\n",
    "**ordeID** -> Order number  \n",
    "**articleID** -> Article number  \n",
    "**colorCode** -> Color code for the article  \n",
    "**sizeCode** -> Size of the article  \n",
    "**productGroup** -> Product group of the article  \n",
    "**quantity** -> Quantity  \n",
    "**price** -> Total value of the order position  \n",
    "**rrp** -> Recommended retail price  \n",
    "**voucherID** -> Voucher number  \n",
    "**voucherAmount** -> Voucher value per order  \n",
    "\n"
   ]
  },
  {
   "cell_type": "code",
   "execution_count": 1,
   "metadata": {
    "colab": {
     "base_uri": "https://localhost:8080/"
    },
    "executionInfo": {
     "elapsed": 6208,
     "status": "ok",
     "timestamp": 1661561819479,
     "user": {
      "displayName": "Diego Tauziet",
      "userId": "07110502820616241116"
     },
     "user_tz": 180
    },
    "id": "MAk4O-AXzD0Q",
    "outputId": "959f6990-9624-42d5-f0a6-246b4c7b6d5e"
   },
   "outputs": [
    {
     "name": "stdout",
     "output_type": "stream",
     "text": [
      "Looking in indexes: https://pypi.org/simple, https://us-python.pkg.dev/colab-wheels/public/simple/\n",
      "Requirement already satisfied: scikit-learn in /usr/local/lib/python3.7/dist-packages (1.0.2)\n",
      "Requirement already satisfied: joblib>=0.11 in /usr/local/lib/python3.7/dist-packages (from scikit-learn) (1.1.0)\n",
      "Requirement already satisfied: numpy>=1.14.6 in /usr/local/lib/python3.7/dist-packages (from scikit-learn) (1.21.6)\n",
      "Requirement already satisfied: scipy>=1.1.0 in /usr/local/lib/python3.7/dist-packages (from scikit-learn) (1.7.3)\n",
      "Requirement already satisfied: threadpoolctl>=2.0.0 in /usr/local/lib/python3.7/dist-packages (from scikit-learn) (3.1.0)\n"
     ]
    }
   ],
   "source": [
    "pip install scikit-learn"
   ]
  },
  {
   "cell_type": "markdown",
   "metadata": {
    "id": "RoBFDu98je38"
   },
   "source": [
    "## Ejercicio ##\n",
    "1) Levantar las bases orders.txt y ordersDetails.txt. [Documentación de la función](https://pandas.pydata.org/pandas-docs/version/1.1/reference/api/pandas.read_csv.html)  \n",
    "\n",
    "2) Realizar una breve descripción de las variables.  \n",
    "*   ¿Cuántas órdenes tenemos en la base?. De dichas órdenes, ¿cuantas sufrieron una devolución? y ¿las que no tuvieron devolución?\n",
    "*   ¿En promedio cuántos productos compran por orden?\n",
    "*   ¿Cuál es la mediana del precio de los productos comprados? La variable *price*, ¿tiene valores faltantes? (Tener en cuenta que no sólo un valor missing puede ser faltante)\n",
    "* ¿Existe alguna variable con valores faltantes? ¿Cuáles son? ¿Es correcto que tenga valores faltantes?\n",
    "Tengan en cuenta los tipos de variables (Por ejemplo la variable voucherID comienza siempre con una letra v, si hay un voucher asociado)\n",
    "\n",
    "3) Imputar los valores faltantes con alguna estrategia (usando medias, medianas, medianas recortadas, utilizando algún agrupado, etc)\n",
    "\n",
    "**TIP**\n",
    "Tener en cuenta para poder unir dos o más dataset se pueden utilizar varias funciones. Nosotros en este curso trabajaremos con una función de la librería de pandas denominada merge [Documentación de la función](https://pandas.pydata.org/docs/reference/api/pandas.DataFrame.merge.html)\n",
    "\n",
    "4) Crear la variable cantidad distinta de tipos de productos en una orden. Para realizar esta variable se tendrá que calcular la cantidad distinta de articleID por orderID. Esta variable la agregaremos al dataset orders.\n",
    "* Tener en cuenta la función drop_duplicates [Documentación de la función](https://pandas.pydata.org/docs/reference/api/pandas.DataFrame.drop_duplicates.html)\n",
    "* Tener en cuenta la función to_frame [Documentación de la función](https://pandas.pydata.org/docs/reference/api/pandas.Series.to_frame.html) \n",
    "* Tener en cuenta la función merge [Documentación de la función](https://pandas.pydata.org/docs/reference/api/pandas.DataFrame.merge.html)\n",
    "* Tener en cuenta la función reset_index [Documentación de la función](https://pandas.pydata.org/docs/reference/api/pandas.DataFrame.reset_index.html)  \n",
    "5) Crear una variable tipo flag (1 si sucede y 0 si no) marcando si una misma orden tiene dos productos iguales pero de distinto tamaño. Agregarla al dataset orders.\n",
    "* La variable se deberá llamar _flagMismoProductoDiferenteTamanio_\n",
    "* Tener en cuenta la función agg (usando groupby) [Documentación de la función](https://pandas.pydata.org/docs/reference/api/pandas.DataFrame.agg.html) (Usar la función de agregación _nunique_)\n",
    "* Tener en cuenta la función rename [Documentación de la función](https://pandas.pydata.org/docs/reference/api/pandas.DataFrame.rename.html)\n",
    "\n",
    "6) Crear una variable tipo flag marcando si una misma orden tiene dos productos iguales pero de distinto color. Agregarla al dataset orders. (tener en cuenta los mismos puntos del ejercicio anterior)  \n",
    "* La variable se deberá llamar _flagMismoProductoDiferenteColor_\n",
    "\n",
    "7) Agregar la variable _flagVoucher_ (creada en el momento de analizar los missings (si no fue creada, no hay problema, crearla en este momento asignándole el valor 1 si posee un voucher asociado o 0 si no posee - valor '0' o valor nulo) en el dataset orders\n",
    "\n",
    "8) Crear la variable _totalPrice_ donde se sume el precio de todas las lineas por orderID. Agregarlo al dataset orders\n",
    "\n",
    "9) Crear una variable tipo flag en donde sea 1 si al menos un producto se vendió por debajo del precio recomendado de venta y 0 si no paso. Agregarlo al dataset orders.\n",
    "\n",
    "10) Crear Deciles sobre la variable _totalPrice_\n",
    "\n",
    "11) Crear las siguientes variables usando la fecha del pedido:\n",
    "* Día de la semana de la compra.\n",
    "* Día de la compra.\n",
    "* Mes de la compra.\n",
    "* trimestre de la compra\n",
    "(Tener en cuenta que se deberá transformar la variable _orderDate_ a un formato fecha)\n",
    "\n",
    "12) Guardar el nuevo dataset orders con el nombre finalOrders.txt. Con separador \";\" y sin índice.[Documentación de la función de guardado](https://pandas.pydata.org/docs/reference/api/pandas.DataFrame.to_csv.html)  \n",
    "Guardarlo en la carpeta _'/content/drive/MyDrive/Austral - Data Mining'_"
   ]
  },
  {
   "cell_type": "markdown",
   "metadata": {
    "id": "Jspia5NwlXdQ"
   },
   "source": [
    "### Bonus Track\n",
    "\n",
    "13) Realizar un gráfico circular en donde se vea la porción de órdenes con devolución y sin devolución.\n",
    "\n",
    "14) Realizar dos gráficos circulares donde se vea la porción de órdenes con devolución y sin devolución abiertas por _flagMismoProductoDiferenteColor_\n",
    "\n",
    "15) Armar un gráfico de barras apiladas por la variable target abierta por los deciles del _totalPrice_.\n",
    "\n",
    "16) Realizar el mismo gráfico que en el ejercicio 13 pero abierto por la variable _flagMismoProductoDiferenteTamanio_\n",
    "\n",
    "17) Crear un gráfico de heatmap en donde se pueda ver la cantidad de compras entre los meses del año y los días de la semana. Utilizar la función de heatmap de seaborn [Documentación de la función](https://seaborn.pydata.org/generated/seaborn.heatmap.html)"
   ]
  },
  {
   "cell_type": "markdown",
   "metadata": {
    "id": "pax7R78DQRd1"
   },
   "source": [
    "### Puntos agregados\n",
    "18) El campo customerID posee letras (el primer caracter). Eliminarlo.\n",
    "19) El campo paymentMethod convertirlo en un valor numerico. Se podra utililar la funcion labelEncoder de Scikit learn. [Documentacion](https://scikit-learn.org/stable/modules/generated/sklearn.preprocessing.LabelEncoder.html)"
   ]
  },
  {
   "cell_type": "code",
   "execution_count": null,
   "metadata": {
    "id": "-81mCd6WfzAo"
   },
   "outputs": [],
   "source": []
  }
 ],
 "metadata": {
  "colab": {
   "authorship_tag": "ABX9TyN8CevK2kC/brVqqnPL9IAH",
   "collapsed_sections": [],
   "name": "01 - Ejercicio Pandas (Orders).ipynb",
   "provenance": [],
   "toc_visible": true
  },
  "kernelspec": {
   "display_name": "Python 3 (ipykernel)",
   "language": "python",
   "name": "python3"
  },
  "language_info": {
   "codemirror_mode": {
    "name": "ipython",
    "version": 3
   },
   "file_extension": ".py",
   "mimetype": "text/x-python",
   "name": "python",
   "nbconvert_exporter": "python",
   "pygments_lexer": "ipython3",
   "version": "3.10.11"
  }
 },
 "nbformat": 4,
 "nbformat_minor": 4
}
