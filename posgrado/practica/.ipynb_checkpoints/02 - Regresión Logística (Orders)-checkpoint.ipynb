{
 "cells": [
  {
   "cell_type": "markdown",
   "metadata": {},
   "source": [
    "<a href=\"https://colab.research.google.com/github/dieguito1331/cienciaDatos/blob/master/posgrado/practica/02 - Regresión Logística (Orders).ipynb\" target=\"_parent\"><img src=\"https://colab.research.google.com/assets/colab-badge.svg\" alt=\"Open In Colab\"/></a>"
   ]
  },
  {
   "cell_type": "markdown",
   "metadata": {
    "id": "37pw9trZY-5h"
   },
   "source": [
    "## Ejercicio ##\n",
    "1) Levantar la base finalOrders.txt creada en el ejercicio anterior.  \n",
    "2) Analizar la cantidad de registros y columnas que tiene la base. Utilizar la función shape para dicho punto. [Documentación](https://pandas.pydata.org/pandas-docs/version/0.23/generated/pandas.DataFrame.shape.html)  \n",
    "3) Realizar una división de la base de un 80% para entrenar y un 20% para validar el modelo. ¿Cuántos registros tenemos para entrenar? ¿Y para validar?  Recordar de usar el parámetro random_state para que siempre las particiones sean las mismas. Al parametro usar el valor 30 en random_state.  \n",
    "4) Crear una regresión logística usando la librería Scikit learn con los parámetros por defecto. Detallar en el código 3 parámetros que considere relevantes y comentar que valores por defecto posee. ¿Cuál es el valor del $Beta_0$ ?\n",
    "6) ¿Cuál es el _accuracy_ que se obtiene?  \n",
    "7) Graficar la curva ROC. ¿Cuál es el valor de AUC?  \n",
    "8) Realizar el mismo modelo creado en el punto 4, pero usando regularización L1.\n",
    "9) ¿Cuál es la diferencia de AUC entre el modelo creado en el punto 4 y en el punto 8.  \n",
    "10) ¿Es correcto que use la métrica de _accuracy_ para saber si el modelo tiene buenos o malos resultados? ¿Por qué?  \n",
    "11) Crear una regresión logística que mejore a la creada en el punto 9. ¿Qué hiperparámetros ajustaste?"
   ]
  },
  {
   "cell_type": "code",
   "execution_count": null,
   "metadata": {
    "id": "2VqeLwQJWlkA"
   },
   "outputs": [],
   "source": []
  }
 ],
 "metadata": {
  "colab": {
   "authorship_tag": "ABX9TyOXrG68qnDDsSXdRJITRRf/",
   "collapsed_sections": [],
   "name": "02 - Ejercicio Árboles y Regresión Logística (Orders).ipynb",
   "provenance": []
  },
  "kernelspec": {
   "display_name": "Python 3 (ipykernel)",
   "language": "python",
   "name": "python3"
  },
  "language_info": {
   "codemirror_mode": {
    "name": "ipython",
    "version": 3
   },
   "file_extension": ".py",
   "mimetype": "text/x-python",
   "name": "python",
   "nbconvert_exporter": "python",
   "pygments_lexer": "ipython3",
   "version": "3.10.11"
  }
 },
 "nbformat": 4,
 "nbformat_minor": 4
}
