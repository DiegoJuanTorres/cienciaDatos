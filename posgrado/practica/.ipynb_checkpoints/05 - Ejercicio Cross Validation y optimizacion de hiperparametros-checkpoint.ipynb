{
 "cells": [
  {
   "cell_type": "markdown",
   "metadata": {},
   "source": [
    "<a href=\"https://colab.research.google.com/github/dieguito1331/cienciaDatos/blob/master/posgrado/practica/05 - Ejercicio Cross Validation y optimizacion de hiperparametros.ipynb\" target=\"_parent\"><img src=\"https://colab.research.google.com/assets/colab-badge.svg\" alt=\"Open In Colab\"/></a>"
   ]
  },
  {
   "cell_type": "markdown",
   "metadata": {},
   "source": [
    "## Ejercicio ##\n",
    "1) Levantar la base finalOrders.txt creada en el ejercicio anterior.  \n",
    "2) Analizar la cantidad de registros y columnas que tiene la base. Utilizar la función shape para dicho punto. [Documentación](https://pandas.pydata.org/pandas-docs/version/0.23/generated/pandas.DataFrame.shape.html)  \n",
    "3) Entrenar un modelo de Ensemble XGBoost utilizando metodología de cross validation con 5 folds (separados de forma aleatoria). Entrenar el modelo usando la métrica de curva roc. \n",
    "4) Cuál es el AUC Promedio.\n",
    "5) Entrenar el mismo modelo del punto 3 pero esta vez usar 5 folds separados de forma estratificada. Calcular el AUC Promedio. Hubo diferencias con el valor obtenido en el punto 4?\n",
    "6) En base a estos hiperparámetros: \n",
    "    \"criterion\":[\"gini\", \"entropy\"], \n",
    "    \"max_depth\":[3,4,5, None],\n",
    "    \"random_state\":[30]\n",
    "    Ejecutar un gridsearch con cross validation de 5 folds (de forma aleatoria). Utilizando como score la curva roc. Cuál es la mejor combinación de hiperparámetros?\n",
    "7) En base a los hiperparámetros del ejercicio 6, ejecutar un randomsearch con 5 iteraciones. Cuáles son los mejores hiperparámetros? Coincidió con los obtenidos en el ejercicio 6? Qué diferencia en curva ROC hubo? \n"
   ]
  }
 ],
 "metadata": {
  "language_info": {
   "name": "python"
  },
  "orig_nbformat": 4
 },
 "nbformat": 4,
 "nbformat_minor": 2
}
