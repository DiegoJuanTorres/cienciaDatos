{
 "cells": [
  {
   "cell_type": "markdown",
   "id": "d4a1c10f-a087-48e5-ac65-4d35eaf02a88",
   "metadata": {},
   "source": [
    "<a href=\"https://colab.research.google.com/github/dieguito1331/cienciaDatos/blob/master/posgrado/practica/06 - Trabajo final.ipynb\" target=\"_parent\"><img src=\"https://colab.research.google.com/assets/colab-badge.svg\" alt=\"Open In Colab\"/></a>"
   ]
  },
  {
   "cell_type": "markdown",
   "id": "2ed030f1-dc54-4ad0-9613-147f18c0049e",
   "metadata": {},
   "source": [
    "## Ejercicio ##\n",
    "Con la base finalOrders.txt hacer lo siguiente:\n",
    "\n",
    "1) Crear una regresión logística usando cross validation 4 folds y ramdomsearch. El randomsearch deberá tener 5 iteraciones. ¿Los folds deben ser estratificados? ¿Por qué?. Elegir la opción que consideres conveniente.\n",
    "(Elegir los hiperparámetros que desees optimizar). Métrica a utilizar AUC para validar.\n",
    "2) Con los mismos hiperparámetros, realizar una optimización bayesiana. Los hiperparámetros elegidos, fuerons los mismos que en el punto anterior?\n",
    "3) Crear un lightgbm con los parámetros por defecto y entrenar con cross validation 4 folds de forma aleatoria. Comparar el AUC entre el modelo creado en el punto 2 y este. ¿Qué modelo es mejor?. Graficar ambas curvas ROC.\n",
    "4) Elegir los hiperparámetros que desees optimizar del modelo anterior y realizarlo con una optimización bayesiana. ¿Qué diferencia en AUC hay entre los dos lighgbm?\n",
    "5) Crear un modelo Support Vector Machine con los hiperárametros por defecto usando cross validation de 4 folds. ¿Es mejor o peor al modelo creado en el punto 3?"
   ]
  }
 ],
 "metadata": {
  "kernelspec": {
   "display_name": "Python 3 (ipykernel)",
   "language": "python",
   "name": "python3"
  },
  "language_info": {
   "codemirror_mode": {
    "name": "ipython",
    "version": 3
   },
   "file_extension": ".py",
   "mimetype": "text/x-python",
   "name": "python",
   "nbconvert_exporter": "python",
   "pygments_lexer": "ipython3",
   "version": "3.10.11"
  }
 },
 "nbformat": 4,
 "nbformat_minor": 5
}
